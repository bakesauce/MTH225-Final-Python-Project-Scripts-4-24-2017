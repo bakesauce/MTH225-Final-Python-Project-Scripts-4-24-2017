{
 "cells": [
  {
   "cell_type": "markdown",
   "metadata": {},
   "source": [
    "Mark Baker\n",
    "Compinations and Permutations \n",
    "4/20/17"
   ]
  },
  {
   "cell_type": "markdown",
   "metadata": {},
   "source": [
    "Factorial Method:\n",
    "\n",
    "Takes in a number and returns the sum of that number's factorial "
   ]
  },
  {
   "cell_type": "code",
   "execution_count": 1,
   "metadata": {
    "collapsed": true
   },
   "outputs": [],
   "source": [
    "def factorial(number):\n",
    "    \n",
    "    #sets the current sum total to 1\n",
    "    total = 1\n",
    "    \n",
    "    #while the number is greater than zero, complete the code below\n",
    "    while (number > 0):\n",
    "        \n",
    "        #Multiply the total by the current value of the number \n",
    "        #and set that as the total\n",
    "        total = total * number\n",
    "        \n",
    "        #decrease number by 1\n",
    "        number -= 1\n",
    "        \n",
    "    #return the value of total\n",
    "    return total"
   ]
  },
  {
   "cell_type": "code",
   "execution_count": 2,
   "metadata": {
    "collapsed": false
   },
   "outputs": [
    {
     "data": {
      "text/plain": [
       "120"
      ]
     },
     "execution_count": 2,
     "metadata": {},
     "output_type": "execute_result"
    }
   ],
   "source": [
    "factorial(5)"
   ]
  },
  {
   "cell_type": "markdown",
   "metadata": {},
   "source": [
    "Choose Method:\n",
    "\n",
    "Returns the nummerical value of (n choose k)"
   ]
  },
  {
   "cell_type": "code",
   "execution_count": 3,
   "metadata": {
    "collapsed": false
   },
   "outputs": [],
   "source": [
    "def choose(n, k):\n",
    "    \n",
    "    #Sets number equal to value found from\n",
    "    #the formula: (n! / ((n-k)! * k!)) which is equal to (n choose k)\n",
    "    number = (factorial(n)/(factorial(n-k)*factorial(k)))\n",
    "    \n",
    "    #returns the number\n",
    "    return number"
   ]
  },
  {
   "cell_type": "code",
   "execution_count": 4,
   "metadata": {
    "collapsed": false
   },
   "outputs": [
    {
     "data": {
      "text/plain": [
       "10.0"
      ]
     },
     "execution_count": 4,
     "metadata": {},
     "output_type": "execute_result"
    }
   ],
   "source": [
    "choose(5,3)"
   ]
  },
  {
   "cell_type": "markdown",
   "metadata": {},
   "source": [
    "Permutation Method:\n",
    "\n",
    "Returns the nummerical value of the permutation of (n choose k)"
   ]
  },
  {
   "cell_type": "code",
   "execution_count": 5,
   "metadata": {
    "collapsed": false
   },
   "outputs": [],
   "source": [
    "def perm(n, k):\n",
    "    \n",
    "    #Takes the value from (n choose k) and multiples that by the value\n",
    "    #of K factorial, returning the number of total permutations\n",
    "    number = choose(n, k) * factorial(k)\n",
    "    \n",
    "    #returns the number\n",
    "    return number\n"
   ]
  },
  {
   "cell_type": "code",
   "execution_count": 6,
   "metadata": {
    "collapsed": false
   },
   "outputs": [
    {
     "data": {
      "text/plain": [
       "60.0"
      ]
     },
     "execution_count": 6,
     "metadata": {},
     "output_type": "execute_result"
    }
   ],
   "source": [
    "perm(5,3)"
   ]
  },
  {
   "cell_type": "markdown",
   "metadata": {},
   "source": [
    "Lattice Path Between 2 Points Method:\n",
    "\n",
    "Returns the number of lattice paths between the two points given in the dictionary in the format of {a : b, c : d} where the points are (a,b) and (c,d)"
   ]
  },
  {
   "cell_type": "code",
   "execution_count": 7,
   "metadata": {
    "collapsed": false
   },
   "outputs": [],
   "source": [
    "def lat_two(dict):\n",
    "    \n",
    "    #create lists that store the x and y values of each point\n",
    "    xvalues = []\n",
    "    yvalues = []\n",
    "    \n",
    "    #iterate through the dictionary, adding the x values to the x list (xvalues)\n",
    "    #and y values to y list (yvalues)\n",
    "    for key in dict:\n",
    "        xvalues.append(key)\n",
    "        yvalues.append(dict[key])\n",
    "    \n",
    "    #sets variable a to the difference between the x values of the two points\n",
    "    a = xvalues[1] - xvalues[0]\n",
    "    \n",
    "    #sets variable b to the difference between the y values of the two points\n",
    "    b = yvalues[1] - yvalues[0]\n",
    "    \n",
    "    #sets variable n to the sum of a and b\n",
    "    n = a + b\n",
    "    \n",
    "    #sets variable k equal to b\n",
    "    k = b\n",
    "    \n",
    "    #the formula to find the number of total paths between these two points \n",
    "    #can be found using the choose method, so (n choose k) will give us\n",
    "    #the number of paths between these two points.\n",
    "    \n",
    "    #sets total equal to this number\n",
    "    total = choose(n, k)\n",
    "    \n",
    "    #returns total\n",
    "    return total\n",
    "    "
   ]
  },
  {
   "cell_type": "code",
   "execution_count": 8,
   "metadata": {
    "collapsed": false
   },
   "outputs": [
    {
     "data": {
      "text/plain": [
       "56.0"
      ]
     },
     "execution_count": 8,
     "metadata": {},
     "output_type": "execute_result"
    }
   ],
   "source": [
    "dict = {0 : 0, 3 : 5}\n",
    "lat_two(dict)"
   ]
  },
  {
   "cell_type": "markdown",
   "metadata": {},
   "source": [
    "Lattice Path Between 3 Points Method:\n",
    "\n",
    "Returns the number of lattice paths between the first and last points but pass through the middle point, given in the dictionary in the format of {a : b, c : d, e : f} where the points are (a,b) and (c,d), and (e,f)"
   ]
  },
  {
   "cell_type": "code",
   "execution_count": 9,
   "metadata": {
    "collapsed": true
   },
   "outputs": [],
   "source": [
    "def lat_three(dict):\n",
    "    #create lists that store the x and y values of each point\n",
    "    xvalues = []\n",
    "    yvalues = []\n",
    "    \n",
    "    #iterate through the dictionary, adding the x values to the x list (xvalues)\n",
    "    #and y values to y list (yvalues)\n",
    "    for key in dict:\n",
    "        xvalues.append(key)\n",
    "        yvalues.append(dict[key])\n",
    "    \n",
    "    #sets variable a to the difference between the x values of the first\n",
    "    #and middle points\n",
    "    a = xvalues[1] - xvalues[0]\n",
    "    \n",
    "    #sets variable b to the difference between the y values of the first\n",
    "    #and middle points\n",
    "    b = yvalues[1] - yvalues[0]\n",
    "    \n",
    "    #sets variable n to the sum of a and b\n",
    "    n = a + b\n",
    "    \n",
    "    #sets variable k equal to b\n",
    "    k = b\n",
    "    \n",
    "    #Calculates the number of ways from the first point to the middle point\n",
    "    num_ways_to_p1 = choose(n, k)\n",
    "    \n",
    "    #sets variable c to the difference between the x values of the last\n",
    "    #and middle points\n",
    "    c = xvalues[2] - xvalues[1]\n",
    "    \n",
    "    #sets variable d to the difference between the y values of the last\n",
    "    #and middle points\n",
    "    d = yvalues[2] - yvalues[1]\n",
    "    \n",
    "    #sets variable n to the sum of c and d\n",
    "    n = c + d\n",
    "    \n",
    "    #sets variable k equal to d\n",
    "    k = d\n",
    "    \n",
    "    #Calculates the number of ways from the middle point to the last point\n",
    "    num_ways_to_p2 = choose(n, k)\n",
    "    \n",
    "    #the total number of ways to get from the first to the last point that\n",
    "    #pass through the middle point can be found by multiplying the number ways to \n",
    "    #get from the first point to the middle point by the number of ways\n",
    "    #to get from the middle point to the last point\n",
    "    total_ways = num_ways_to_p1 * num_ways_to_p2\n",
    "    \n",
    "    #returns total_ways\n",
    "    return total_ways"
   ]
  },
  {
   "cell_type": "code",
   "execution_count": 13,
   "metadata": {
    "collapsed": false
   },
   "outputs": [
    {
     "data": {
      "text/plain": [
       "56.0"
      ]
     },
     "execution_count": 13,
     "metadata": {},
     "output_type": "execute_result"
    }
   ],
   "source": [
    "dict = {0 : 0, 3 : 5, 5 : 5}\n",
    "lat_three(dict)"
   ]
  },
  {
   "cell_type": "markdown",
   "metadata": {},
   "source": [
    "List Permutation Method:\n",
    "\n",
    "Returns a list of all permutations of the original list"
   ]
  },
  {
   "cell_type": "code",
   "execution_count": 10,
   "metadata": {
    "collapsed": false
   },
   "outputs": [],
   "source": [
    "def list_perm(lst):\n",
    "    \n",
    "    #if the legnth of the original list is 0, return an empty list\n",
    "    if len(lst) == 0:\n",
    "            return [[]]\n",
    "        \n",
    "    #creates an empty list that will hold all permutations\n",
    "    permuted_list = []\n",
    "    \n",
    "    #for each number in the list, do the following\n",
    "    for num in lst:\n",
    "        \n",
    "            #set temp_list equal to the current list\n",
    "            temp_list = lst[0:]\n",
    "            \n",
    "            #remove num from the temporary list\n",
    "            temp_list.remove(num)\n",
    "            \n",
    "            #Adds all of the permutations starting with num to permuted_list\n",
    "            #by recurring through this method with the remainder of the list\n",
    "            temp = ([[num] + remainder for remainder in list_perm(temp_list)])\n",
    "            temp_bool = False\n",
    "            for i in lst:\n",
    "                if temp == i:\n",
    "                    temp_bool = True\n",
    "                    break\n",
    "                else:\n",
    "                    temp_bool = False\n",
    "            if (temp_bool == False):\n",
    "                permuted_list.extend([[num] + remainder for remainder in list_perm(temp_list)])\n",
    "\n",
    "    #returns the permuted_list\n",
    "    return permuted_list"
   ]
  },
  {
   "cell_type": "code",
   "execution_count": 12,
   "metadata": {
    "collapsed": false
   },
   "outputs": [
    {
     "data": {
      "text/plain": [
       "[[1, 1, 3], [1, 3, 1], [1, 1, 3], [1, 3, 1], [3, 1, 1], [3, 1, 1]]"
      ]
     },
     "execution_count": 12,
     "metadata": {},
     "output_type": "execute_result"
    }
   ],
   "source": [
    "lst = [1,1,3]\n",
    "list_perm(lst)"
   ]
  },
  {
   "cell_type": "code",
   "execution_count": null,
   "metadata": {
    "collapsed": true
   },
   "outputs": [],
   "source": []
  },
  {
   "cell_type": "code",
   "execution_count": null,
   "metadata": {
    "collapsed": true
   },
   "outputs": [],
   "source": []
  }
 ],
 "metadata": {
  "kernelspec": {
   "display_name": "Python 3",
   "language": "python",
   "name": "python3"
  },
  "language_info": {
   "codemirror_mode": {
    "name": "ipython",
    "version": 3
   },
   "file_extension": ".py",
   "mimetype": "text/x-python",
   "name": "python",
   "nbconvert_exporter": "python",
   "pygments_lexer": "ipython3",
   "version": "3.6.0"
  }
 },
 "nbformat": 4,
 "nbformat_minor": 2
}
