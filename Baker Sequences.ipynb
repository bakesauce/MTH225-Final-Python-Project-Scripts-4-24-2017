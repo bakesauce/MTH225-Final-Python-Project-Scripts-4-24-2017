{
 "cells": [
  {
   "cell_type": "markdown",
   "metadata": {},
   "source": [
    "Mark Baker\n",
    "Sequences\n",
    "4/20/17"
   ]
  },
  {
   "cell_type": "markdown",
   "metadata": {},
   "source": [
    "Arithmatic Sequence Method:\n",
    "\n",
    "The method takes in a starting value, an increment number, and a final index. \n",
    "Returns a list of numbers that result from an aritmatic sequence. "
   ]
  },
  {
   "cell_type": "code",
   "execution_count": 4,
   "metadata": {
    "collapsed": true
   },
   "outputs": [],
   "source": [
    "def arith(start, number, index):\n",
    "    \n",
    "    #create empty list\n",
    "    lst = []\n",
    "    \n",
    "    #for x values in the range of 0 and the index + 1, do the following\n",
    "    for x in range (0, index + 1):\n",
    "        \n",
    "        #add the value of x multiplied by the increment number added to \n",
    "        #the start value to the list\n",
    "        lst.append(x * number + start)\n",
    "       \n",
    "    #returns the list\n",
    "    return lst"
   ]
  },
  {
   "cell_type": "code",
   "execution_count": 5,
   "metadata": {
    "collapsed": false
   },
   "outputs": [
    {
     "data": {
      "text/plain": [
       "[3, 8, 13, 18]"
      ]
     },
     "execution_count": 5,
     "metadata": {},
     "output_type": "execute_result"
    }
   ],
   "source": [
    "arith(3,5,3)"
   ]
  },
  {
   "cell_type": "markdown",
   "metadata": {},
   "source": [
    "Geometric Sequence Method:\n",
    "\n",
    "The method takes in a starting value, an increment number, and a final index. \n",
    "Returns a list of numbers that result from that geometric sequence. "
   ]
  },
  {
   "cell_type": "code",
   "execution_count": 3,
   "metadata": {
    "collapsed": true
   },
   "outputs": [],
   "source": [
    "def geo(start, number, index):\n",
    "    \n",
    "    #create empty list\n",
    "    lst = []\n",
    "    \n",
    "    #sets the value of previous to the start value\n",
    "    previous = start\n",
    "    \n",
    "    #for every x value in the range of 0 to the value of index + 1\n",
    "    #do the following\n",
    "    for x in range (0, index + 1):\n",
    "        \n",
    "        #add the value of previous to the list\n",
    "        lst.append(previous)\n",
    "        \n",
    "        #sets the value of previous to its value multiplied by the\n",
    "        #increment number\n",
    "        previous = previous * number\n",
    "    \n",
    "    #returns the list\n",
    "    return lst"
   ]
  },
  {
   "cell_type": "code",
   "execution_count": 4,
   "metadata": {
    "collapsed": false
   },
   "outputs": [
    {
     "data": {
      "text/plain": [
       "[5, -5, 5, -5, 5]"
      ]
     },
     "execution_count": 4,
     "metadata": {},
     "output_type": "execute_result"
    }
   ],
   "source": [
    "geo(5,-1,4)"
   ]
  },
  {
   "cell_type": "markdown",
   "metadata": {},
   "source": [
    "Reccurance Relation Method:\n",
    "\n",
    "Returns a list of 10 numbers who follow the given reccurance relation. The reccurance relation is found using the following formula:\n",
    "\n",
    "an = (co1)an-1 + (co2)an-2\n",
    "\n",
    "The methods peramaters include these two coefficient values as well as two starting values"
   ]
  },
  {
   "cell_type": "code",
   "execution_count": 5,
   "metadata": {
    "collapsed": true
   },
   "outputs": [],
   "source": [
    "def recur(co1, co2, start1, start2):\n",
    "    \n",
    "    #create an empty list\n",
    "    lst = []\n",
    "    \n",
    "    #add start 1 and start2 to the list\n",
    "    lst.append(start1)\n",
    "    lst.append(start2)\n",
    "    \n",
    "    #for x values in the range of 2 to 10 do the following\n",
    "    #Because we only want a list of 10 number and start1 and start2 are already \n",
    "    #in the list, this will give us 8 more numbers\n",
    "    for x in range (2, 10):\n",
    "        \n",
    "        #add the value given by the reccurance formula for x\n",
    "        lst.append(co1*lst[x-1]+co2*lst[x-2])\n",
    "        \n",
    "    #returns the list\n",
    "    return lst"
   ]
  },
  {
   "cell_type": "code",
   "execution_count": 6,
   "metadata": {
    "collapsed": false
   },
   "outputs": [
    {
     "data": {
      "text/plain": [
       "[0, 1, 1, 2, 3, 5, 8, 13, 21, 34]"
      ]
     },
     "execution_count": 6,
     "metadata": {},
     "output_type": "execute_result"
    }
   ],
   "source": [
    "recur(1,1, 0,1)"
   ]
  },
  {
   "cell_type": "markdown",
   "metadata": {},
   "source": [
    "Delta K Constant Method for k = 1:\n",
    "\n",
    "Checks to see if the given list is a delta k constant sequence for k = 1. If it is, the method will return true."
   ]
  },
  {
   "cell_type": "code",
   "execution_count": 32,
   "metadata": {
    "collapsed": false
   },
   "outputs": [],
   "source": [
    "def delta_one(lst):\n",
    "    \n",
    "    #sets the value of constant to the difference between the value of \n",
    "    #lst[1] and lst[0]\n",
    "    constant = lst[1] - lst[0]\n",
    "    \n",
    "    #sets the default value of test_bool to false\n",
    "    test_bool = False\n",
    "    \n",
    "    #for x values in the range of 0 to the length of the list - 1\n",
    "    #do the following\n",
    "    for x in range (0, len(lst) - 1):\n",
    "        \n",
    "        #if the next value in the list is equal to the current value +\n",
    "        #the constant, set test_bool to true and continue checking the\n",
    "        #rest of the list\n",
    "        if (lst[x] + constant == lst[x+1]):\n",
    "            test_bool = True\n",
    "            continue\n",
    "            \n",
    "        #if the next value doesn't equal the last value plus the constant, \n",
    "        #the list is not delta k constant, so return false and break\n",
    "        else:\n",
    "            test_bool = False\n",
    "            return test_bool\n",
    "            break\n",
    "    \n",
    "    #return the value of test_bool (should always be true if at this point)\n",
    "    return test_bool"
   ]
  },
  {
   "cell_type": "code",
   "execution_count": 33,
   "metadata": {
    "collapsed": false
   },
   "outputs": [
    {
     "data": {
      "text/plain": [
       "True"
      ]
     },
     "execution_count": 33,
     "metadata": {},
     "output_type": "execute_result"
    }
   ],
   "source": [
    "lst = [1,3,5,7,9,11]\n",
    "delta_one(lst)"
   ]
  },
  {
   "cell_type": "markdown",
   "metadata": {},
   "source": [
    "Delta K Constant Method for k = 2:\n",
    "\n",
    "Checks to see if the given list is a delta k constant sequence for k = 2. If it is, the method will return true."
   ]
  },
  {
   "cell_type": "code",
   "execution_count": 28,
   "metadata": {
    "collapsed": false
   },
   "outputs": [],
   "source": [
    "def delta_two(lst):\n",
    "    \n",
    "    #creates a temp list that will hold a list of values that are the differences\n",
    "    #between all of the points\n",
    "    differences_list = []\n",
    "    \n",
    "    #sets temp_bool to false\n",
    "    temp_bool = False\n",
    "    \n",
    "    #if a list is delta k = 1 constant, it is also delta k = 2 constant\n",
    "    #checks if the list is delta k = 1 constant and returns true if it is\n",
    "    if (delta_one(lst) == True):\n",
    "        temp_bool = True\n",
    "    \n",
    "    #if it is not, do the following:\n",
    "    else:\n",
    "        \n",
    "        #for every x value in the range of 1 to the length of the list\n",
    "        #do the following:\n",
    "        for x in range(1, len(lst)):\n",
    "            \n",
    "            #add the value of the difference between this point and the next point\n",
    "            #to the temp_list\n",
    "            differences_list.append(lst[x] - lst[x-1])\n",
    "        \n",
    "        #Runs the new list of difference values through the delta k = 1 constant\n",
    "        #checking if the list of difference values is delta k = 1 constant will\n",
    "        #tell us if the original list is delta k = 2 constant\n",
    "        \n",
    "        #sets temp_bool to this value\n",
    "        temp_bool = delta_one(differences_list)\n",
    "    \n",
    "    #returns the value of temp_bool\n",
    "    return temp_bool\n",
    "    "
   ]
  },
  {
   "cell_type": "code",
   "execution_count": 34,
   "metadata": {
    "collapsed": false
   },
   "outputs": [
    {
     "data": {
      "text/plain": [
       "True"
      ]
     },
     "execution_count": 34,
     "metadata": {},
     "output_type": "execute_result"
    }
   ],
   "source": [
    "lst = [1, 4, 9, 16, 25, 36, 49, 64]\n",
    "delta_two(lst)"
   ]
  },
  {
   "cell_type": "code",
   "execution_count": 35,
   "metadata": {
    "collapsed": false
   },
   "outputs": [
    {
     "data": {
      "text/plain": [
       "False"
      ]
     },
     "execution_count": 35,
     "metadata": {},
     "output_type": "execute_result"
    }
   ],
   "source": [
    "lst2 = [0,4,18,48,100,180]\n",
    "delta_two(lst2)"
   ]
  },
  {
   "cell_type": "markdown",
   "metadata": {},
   "source": [
    "Delta K Constant Method for k = 3:\n",
    "\n",
    "Checks to see if the given list is a delta k constant sequence for k = 3. If it is, the method will return true."
   ]
  },
  {
   "cell_type": "code",
   "execution_count": 47,
   "metadata": {
    "collapsed": true
   },
   "outputs": [],
   "source": [
    "def delta_three(lst):\n",
    "    \n",
    "    #creates an empty list for the first differences\n",
    "    first_differences_list = []\n",
    "    \n",
    "    #creates an empty list for the second differences\n",
    "    second_differences_list = []\n",
    "    \n",
    "    #sets temp_bool to false\n",
    "    temp_bool = False\n",
    "    \n",
    "    #if the list is delta one and delta two k constant, it will also be delta\n",
    "    #three k constant. If this is true, set the temp_bool to true\n",
    "    if (delta_one(lst) == True and delta_two(lst) == True):\n",
    "        temp_bool = True\n",
    "    \n",
    "    #if the list is not delta 1 and delta 2 k constant, do the following\n",
    "    else:\n",
    "    \n",
    "        #for every x value in the range of 1 to the length of the original list\n",
    "        #do the following\n",
    "        for x in range(1, len(lst)):\n",
    "            \n",
    "            #add the differences between every value in the original list\n",
    "            #to the first_differences_list\n",
    "            first_differences_list.append(lst[x] - lst[x-1])\n",
    "        \n",
    "        #for every x value in the range of 1 to the length of the \n",
    "        #first_differences_list, do the following\n",
    "        for x in range(1, len(first_differences_list)):\n",
    "            \n",
    "            #add the differences between every value in the first_differences_list\n",
    "            #to the second_differences_list\n",
    "            second_differences_list.append(first_differences_list[x] - \n",
    "                    first_differences_list[x-1])\n",
    "        \n",
    "        #If the second_differences_list is delta k = 1 constant, than the original\n",
    "        #list is delta k = 3 constant, sets temp_bool to true or false\n",
    "        temp_bool = delta_one(second_differences_list)\n",
    "        \n",
    "    #returns the value of temp_bool\n",
    "    return temp_bool"
   ]
  },
  {
   "cell_type": "code",
   "execution_count": 48,
   "metadata": {
    "collapsed": false
   },
   "outputs": [
    {
     "data": {
      "text/plain": [
       "True"
      ]
     },
     "execution_count": 48,
     "metadata": {},
     "output_type": "execute_result"
    }
   ],
   "source": [
    "lst = [0, 4, 18, 48, 100, 180]\n",
    "delta_three(lst)"
   ]
  },
  {
   "cell_type": "code",
   "execution_count": null,
   "metadata": {
    "collapsed": true
   },
   "outputs": [],
   "source": [
    "\n"
   ]
  },
  {
   "cell_type": "code",
   "execution_count": null,
   "metadata": {
    "collapsed": false
   },
   "outputs": [],
   "source": [
    "\n"
   ]
  },
  {
   "cell_type": "code",
   "execution_count": null,
   "metadata": {
    "collapsed": true
   },
   "outputs": [],
   "source": []
  }
 ],
 "metadata": {
  "kernelspec": {
   "display_name": "Python 3",
   "language": "python",
   "name": "python3"
  },
  "language_info": {
   "codemirror_mode": {
    "name": "ipython",
    "version": 3
   },
   "file_extension": ".py",
   "mimetype": "text/x-python",
   "name": "python",
   "nbconvert_exporter": "python",
   "pygments_lexer": "ipython3",
   "version": "3.6.0"
  }
 },
 "nbformat": 4,
 "nbformat_minor": 2
}
